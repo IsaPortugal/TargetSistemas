{
  "nbformat": 4,
  "nbformat_minor": 0,
  "metadata": {
    "colab": {
      "provenance": []
    },
    "kernelspec": {
      "name": "python3",
      "display_name": "Python 3"
    },
    "language_info": {
      "name": "python"
    }
  },
  "cells": [
    {
      "cell_type": "markdown",
      "source": [
        "1) Observe o trecho de código abaixo: int INDICE = 13, SOMA = 0, K = 0;\n",
        "Enquanto K < INDICE faça { K = K + 1; SOMA = SOMA + K; }\n",
        "Imprimir(SOMA);\n",
        "Ao final do processamento, qual será o valor da variável SOMA?"
      ],
      "metadata": {
        "id": "mrDU4myqn9t_"
      }
    },
    {
      "cell_type": "code",
      "source": [
        "# Define o índice final para a soma\n",
        "INDICE = 13\n",
        "# Inicia a variável SOMA com 0, que armazenará a soma dos números\n",
        "SOMA = 0\n",
        "# Inicia a variável K com 0, que será usada como contador\n",
        "K = 0\n",
        "# Executa um loop enquanto K for menor que o valor de INDICE\n",
        "while K < INDICE:\n",
        "    # Incrementa o valor de K em 1 a cada iteração\n",
        "    K += 1\n",
        "    # Adiciona o valor atual de K à variável SOMA\n",
        "    SOMA += K\n",
        "\n",
        "print(f\"O valor da variável SOMA é: {SOMA}\")\n",
        "\n"
      ],
      "metadata": {
        "colab": {
          "base_uri": "https://localhost:8080/"
        },
        "id": "OYk6HQ3Fn_T3",
        "outputId": "f5280340-c5af-4209-8f68-7b0a844b4bf4"
      },
      "execution_count": 12,
      "outputs": [
        {
          "output_type": "stream",
          "name": "stdout",
          "text": [
            "O valor da variável SOMA é: 91\n"
          ]
        }
      ]
    },
    {
      "cell_type": "markdown",
      "source": [
        "2) Dado a sequência de Fibonacci, escreva um programa onde, informado um número, ele calcule a sequência de Fibonacci e retorne uma mensagem avisando se o número informado pertence ou não a sequência.\n"
      ],
      "metadata": {
        "id": "48LuPM15obZR"
      }
    },
    {
      "cell_type": "code",
      "source": [
        "# Solicita que informe um número inteiro\n",
        "numero = int(input(\"Informe um número: \"))\n",
        "\n",
        "# Inicializa as variáveis a e b com os dois primeiros valores da sequência de Fibonacci\n",
        "a, b = 0, 1\n",
        "\n",
        "# Executa um loop enquanto o valor de b for menor que o número informado\n",
        "while b < numero:\n",
        "    # Atualiza os valores de a e b para os próximos números da sequência de Fibonacci\n",
        "    a, b = b, a + b\n",
        "\n",
        "# Após o loop, verifica se o valor de b é igual ao número informado ou se o número informado é zero\n",
        "if b == numero or numero == 0:\n",
        "    print(f\"{numero} pertence à sequência de Fibonacci.\")\n",
        "else:\n",
        "    print(f\"{numero} não pertence à sequência de Fibonacci.\")\n",
        "\n"
      ],
      "metadata": {
        "colab": {
          "base_uri": "https://localhost:8080/"
        },
        "id": "EnRmoIaIpOt6",
        "outputId": "244bb4f7-e4e1-4066-f7ae-efeffb708f12"
      },
      "execution_count": 11,
      "outputs": [
        {
          "output_type": "stream",
          "name": "stdout",
          "text": [
            "Informe um número: 5\n",
            "5 pertence à sequência de Fibonacci.\n"
          ]
        }
      ]
    },
    {
      "cell_type": "markdown",
      "source": [
        "3) Dado um vetor que guarda o valor de faturamento diário de uma distribuidora, faça um programa, que calcule e retorne:\n",
        "• O menor valor de faturamento ocorrido em um dia do mês;\n",
        "• O maior valor de faturamento ocorrido em um dia do mês;\n",
        "• Número de dias no mês em que o valor de faturamento diário foi superior à média mensal.\n"
      ],
      "metadata": {
        "id": "2pK9YotkpXWS"
      }
    },
    {
      "cell_type": "code",
      "source": [
        "import numpy as np\n",
        "\n",
        "# Caminho para o arquivo JSON\n",
        "caminho_arquivo = '/content/dados.json'\n",
        "\n",
        "# Carregar o arquivo JSON\n",
        "with open(caminho_arquivo) as f:\n",
        "    dados = json.load(f)\n",
        "\n",
        "# Extrair os valores de faturamento, ignorando dias com valor 0\n",
        "faturamento_diario = [item['valor'] for item in dados if item['valor'] > 0]\n",
        "\n",
        "# Cálculo do menor e maior valor de faturamento\n",
        "menor_faturamento = min(faturamento_diario)\n",
        "maior_faturamento = max(faturamento_diario)\n",
        "\n",
        "# Cálculo da média de faturamento\n",
        "media_faturamento = np.mean(faturamento_diario)\n",
        "\n",
        "# Contar o número de dias com faturamento acima da média\n",
        "dias_acima_media = sum(faturamento > media_faturamento for faturamento in faturamento_diario)\n",
        "\n",
        "# Mostrar os resultados\n",
        "print(f\"Menor valor de faturamento: {menor_faturamento}\")\n",
        "print(f\"Maior valor de faturamento: {maior_faturamento}\")\n",
        "print(f\"Número de dias com faturamento superior à média: {dias_acima_media}\")\n"
      ],
      "metadata": {
        "colab": {
          "base_uri": "https://localhost:8080/"
        },
        "id": "nE3jvBd9tEAD",
        "outputId": "d186a5ae-2f49-4f6d-fc88-46475b873de1"
      },
      "execution_count": 10,
      "outputs": [
        {
          "output_type": "stream",
          "name": "stdout",
          "text": [
            "Menor valor de faturamento: 373.7838\n",
            "Maior valor de faturamento: 48924.2448\n",
            "Número de dias com faturamento superior à média: 10\n"
          ]
        }
      ]
    },
    {
      "cell_type": "markdown",
      "source": [
        "4) Dado o valor de faturamento mensal de uma distribuidora, detalhado por estado, Escreva um programa onde calcule o percentual de representação que cada estado teve dentro do valor total mensal da distribuidora.\n"
      ],
      "metadata": {
        "id": "iyq8NLAAuOaM"
      }
    },
    {
      "cell_type": "code",
      "source": [
        "faturamento = {\n",
        "    \"SP\": 67836.43,\n",
        "    \"RJ\": 36678.66,\n",
        "    \"MG\": 29229.88,\n",
        "    \"ES\": 27165.48,\n",
        "    \"Outros\": 19849.53\n",
        "}\n",
        "\n",
        "total = sum(faturamento.values())\n",
        "\n",
        "for estado, valor in faturamento.items():\n",
        "    percentual = (valor / total) * 100\n",
        "    print(f\"Percentual de {estado}: {percentual:.2f}%\")\n"
      ],
      "metadata": {
        "colab": {
          "base_uri": "https://localhost:8080/"
        },
        "id": "pGnXhJ8IuqHR",
        "outputId": "c7b1c07e-771e-4739-e78b-03bd630b0abb"
      },
      "execution_count": 13,
      "outputs": [
        {
          "output_type": "stream",
          "name": "stdout",
          "text": [
            "Percentual de SP: 37.53%\n",
            "Percentual de RJ: 20.29%\n",
            "Percentual de MG: 16.17%\n",
            "Percentual de ES: 15.03%\n",
            "Percentual de Outros: 10.98%\n"
          ]
        }
      ]
    },
    {
      "cell_type": "markdown",
      "source": [
        "5) Escreva um programa que inverta os caracteres de um string."
      ],
      "metadata": {
        "id": "TNsfXAdwvxlt"
      }
    },
    {
      "cell_type": "code",
      "source": [
        "string = input(\"Digite uma string: \")\n",
        "invertida = string[::-1]\n",
        "print(f\"String invertida: {invertida}\")\n"
      ],
      "metadata": {
        "colab": {
          "base_uri": "https://localhost:8080/"
        },
        "id": "9m5GXMmHwcZx",
        "outputId": "ef41a217-82c3-433d-820e-4c783dadd6c9"
      },
      "execution_count": 14,
      "outputs": [
        {
          "output_type": "stream",
          "name": "stdout",
          "text": [
            "Digite uma string: Target Sistemas\n",
            "String invertida: sametsiS tegraT\n"
          ]
        }
      ]
    }
  ]
}